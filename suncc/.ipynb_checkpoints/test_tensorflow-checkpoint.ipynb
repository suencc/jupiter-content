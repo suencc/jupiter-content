{
 "cells": [
  {
   "cell_type": "code",
   "execution_count": 5,
   "metadata": {},
   "outputs": [
    {
     "name": "stdout",
     "output_type": "stream",
     "text": [
      "2.0\n",
      "5.0\n"
     ]
    }
   ],
   "source": [
    "import tensorflow as tf\n",
    "\n",
    "p = tf.placeholder(tf.float32, shape=[], name=\"p\")\n",
    "\n",
    "v2 = tf.Variable(2. , name=\"v2\")\n",
    "\n",
    "a = tf.add(p, v2)\n",
    "\n",
    "with tf.Session() as sess:\n",
    "\n",
    "    sess.run(tf.global_variables_initializer())\n",
    "\n",
    "# From the moment we initiliaze variables, until the end of the Session\n",
    "\n",
    "# We can access them\n",
    "\n",
    "    print(sess.run(v2)) # -> 2.\n",
    "\n",
    "# On the other hand, intermediate variables has to be recalculated \n",
    "\n",
    "# each time you want to access its value\n",
    "\n",
    "    print(sess.run(a, feed_dict={p: 3})) # -> 5.\n",
    "\n",
    "# Even if calculated the value of a, it's no more accessible\n",
    "\n",
    "# the value of a has been freed off the memory\n",
    "\n",
    "#     print(sess.run(a)) # Error ...\n",
    "\n"
   ]
  }
 ],
 "metadata": {
  "kernelspec": {
   "display_name": "Python 3",
   "language": "python",
   "name": "python3"
  },
  "language_info": {
   "codemirror_mode": {
    "name": "ipython",
    "version": 3
   },
   "file_extension": ".py",
   "mimetype": "text/x-python",
   "name": "python",
   "nbconvert_exporter": "python",
   "pygments_lexer": "ipython3",
   "version": "3.6.1"
  }
 },
 "nbformat": 4,
 "nbformat_minor": 2
}
