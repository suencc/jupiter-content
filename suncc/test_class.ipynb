{
 "cells": [
  {
   "cell_type": "code",
   "execution_count": 31,
   "metadata": {},
   "outputs": [
    {
     "name": "stdout",
     "output_type": "stream",
     "text": [
      "<class 'str'>\n"
     ]
    },
    {
     "ename": "TypeError",
     "evalue": "sequence item 3: expected str instance, int found",
     "output_type": "error",
     "traceback": [
      "\u001b[0;31m---------------------------------------------------------------------------\u001b[0m",
      "\u001b[0;31mTypeError\u001b[0m                                 Traceback (most recent call last)",
      "\u001b[0;32m<ipython-input-31-07f03bf57f75>\u001b[0m in \u001b[0;36m<module>\u001b[0;34m()\u001b[0m\n\u001b[1;32m      8\u001b[0m \u001b[0;34m\u001b[0m\u001b[0m\n\u001b[1;32m      9\u001b[0m \u001b[0mprint\u001b[0m\u001b[0;34m(\u001b[0m\u001b[0mtype\u001b[0m\u001b[0;34m(\u001b[0m\u001b[0;34m'aa'\u001b[0m\u001b[0;34m)\u001b[0m\u001b[0;34m)\u001b[0m\u001b[0;34m\u001b[0m\u001b[0m\n\u001b[0;32m---> 10\u001b[0;31m \u001b[0;34m'||'\u001b[0m\u001b[0;34m.\u001b[0m\u001b[0mjoin\u001b[0m\u001b[0;34m(\u001b[0m\u001b[0mll\u001b[0m\u001b[0;34m)\u001b[0m\u001b[0;34m\u001b[0m\u001b[0m\n\u001b[0m",
      "\u001b[0;31mTypeError\u001b[0m: sequence item 3: expected str instance, int found"
     ]
    }
   ],
   "source": [
    "ll = ['a', 'b', 'c', 2, 3.4]\n",
    "# for x in ll:\n",
    "#     print(ll.index(x))\n",
    "    \n",
    "# dd ={'aa':22, 'bb':33, 'cc':44}\n",
    "# for y,v in dd:\n",
    "#     print(y,v)\n",
    "\n",
    "print(type('aa'))\n",
    "'||'.join(ll)"
   ]
  },
  {
   "cell_type": "code",
   "execution_count": 14,
   "metadata": {},
   "outputs": [
    {
     "name": "stdout",
     "output_type": "stream",
     "text": [
      "base inited\n",
      "base log.\n",
      "s inited\n",
      "s Statis log.\n",
      "r inited\n",
      "r Result log.\n"
     ]
    }
   ],
   "source": [
    "class Base(object):\n",
    "    def __init__(self, name):\n",
    "        self.name = name\n",
    "        print(self.name,'inited')\n",
    "    def log(self):\n",
    "        print(self.name, 'log.')\n",
    "        \n",
    "class Statis(Base):\n",
    "    def log(self):\n",
    "        print(self.name, 'Statis log.')\n",
    "        \n",
    "class Result(Base):\n",
    "    def log(self):\n",
    "        print(self.name, 'Result log.')\n",
    "\n",
    "a = Base('base')\n",
    "a.log()\n",
    "\n",
    "statis = Statis('s')\n",
    "statis.log()\n",
    "\n",
    "rslt = Result('r')\n",
    "rslt.log()"
   ]
  }
 ],
 "metadata": {
  "kernelspec": {
   "display_name": "Python 3",
   "language": "python",
   "name": "python3"
  },
  "language_info": {
   "codemirror_mode": {
    "name": "ipython",
    "version": 3
   },
   "file_extension": ".py",
   "mimetype": "text/x-python",
   "name": "python",
   "nbconvert_exporter": "python",
   "pygments_lexer": "ipython3",
   "version": "3.6.1"
  }
 },
 "nbformat": 4,
 "nbformat_minor": 2
}
