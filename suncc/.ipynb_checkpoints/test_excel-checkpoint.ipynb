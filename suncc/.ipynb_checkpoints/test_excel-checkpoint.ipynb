{
 "cells": [
  {
   "cell_type": "code",
   "execution_count": null,
   "metadata": {},
   "outputs": [],
   "source": [
    "import xlrd\n",
    "import xlwt\n",
    "import time\n",
    "dir(xlwt)\n",
    "# f = xlwt.Workbook('test.xlsx')\n",
    "# sheet1 = f.add_sheet(u'2student_info',cell_overwrite_ok=True)\n",
    "# rows = [['2姓名', '2学号', '2成绩'],\n",
    "#           ['2孙朝', '2001', 88],\n",
    "#           ['2付强', '2002', 59],\n",
    "#           ['2惠新', '2003', 92],\n",
    "#           ['2贺峰', '2004', 100],\n",
    "#           ['2展华', '2005', 69],\n",
    "#           ['2王坤', '2006', 80],\n",
    "#           ['2刘明', '2007', 95]]\n",
    "\n",
    "# for i in range(len(rows)):\n",
    "#     row = rows[i]\n",
    "#     for j in range(len(row)):\n",
    "#         # 以 cell 为单位写出单元格\n",
    "#         sheet1.write(i, j, rows[i][j])\n",
    "# # 别忘了保存\n",
    "# f.save('test.xlsx')\n",
    "ff = xlrd.open_workbook('test.xlsx')\n",
    "print(ff.sheet_names())\n",
    "print(ff.sheets())\n",
    "# dir(xlrd)\n",
    "# print(time.strftime('%b'))\n",
    "# help(time.strftime)\n",
    "sheet1 = ff.sheet_by_name('user_info')\n",
    "print(sheet1)\n",
    "dir(sheet1)\n",
    "rows = sheet1.nrows\n",
    "cols = sheet1.ncols\n",
    "\n",
    "print(rows, cols)\n",
    "for i in range(rows):\n",
    "    for j in range(cols):    \n",
    "        tmp = sheet1.cell(i, j).value\n",
    "        print(tmp, end='\\t')\n",
    "    print()"
   ]
  },
  {
   "cell_type": "code",
   "execution_count": 3,
   "metadata": {},
   "outputs": [
    {
     "name": "stdout",
     "output_type": "stream",
     "text": [
      "1.4597683460503745 0.6972902925196989 1.0178822970284627\n"
     ]
    }
   ],
   "source": [
    "import  math\n",
    "\n",
    "def calcDistance(Lat_A, Lng_A, Lat_B, Lng_B):\n",
    "    \"\"\"\n",
    "    input Lat_A 纬度A\n",
    "    input Lng_A 经度A\n",
    "    input Lat_B 纬度B\n",
    "    input Lng_B 经度B\n",
    "    output distance 距离(km)    \n",
    "    \"\"\"    \n",
    "    try:\n",
    "        ra = 6378.140  # 赤道半径 (km)\n",
    "        rb = 6356.755  # 极半径 (km)\n",
    "        flatten = (ra - rb) / ra  # 地球扁率\n",
    "        rad_lat_A = math.radians(Lat_A)\n",
    "        rad_lng_A = math.radians(Lng_A)\n",
    "        rad_lat_B = math.radians(Lat_B)\n",
    "        rad_lng_B = math.radians(Lng_B)\n",
    "        pA = math.atan(rb / ra * math.tan(rad_lat_A))\n",
    "        pB = math.atan(rb / ra * math.tan(rad_lat_B))\n",
    "        xx = math.acos(math.sin(pA) * math.sin(pB) + math.cos(pA) * math.cos(pB) * math.cos(rad_lng_A - rad_lng_B))\n",
    "        c1 = (math.sin(xx) - xx) * (math.sin(pA) + math.sin(pB)) ** 2 / math.cos(xx / 2) ** 2\n",
    "        c2 = (math.sin(xx) + xx) * (math.sin(pA) - math.sin(pB)) ** 2 / math.sin(xx / 2) ** 2\n",
    "        dr = flatten / 8 * (c1 - c2)\n",
    "        distance = ra * (xx + dr)\n",
    "        return distance\n",
    "    except Exception as e:\n",
    "        print(e)\n",
    "        return 0.001\n",
    "\n",
    "a = calcDistance(53.557193, 73.507843, 53.570309, 73.507843)\n",
    "b = calcDistance(53.557193, 73.507843, 53.557193, 73.518365)\n",
    "print(a, b, a * b)"
   ]
  }
 ],
 "metadata": {
  "kernelspec": {
   "display_name": "Python 3",
   "language": "python",
   "name": "python3"
  },
  "language_info": {
   "codemirror_mode": {
    "name": "ipython",
    "version": 3
   },
   "file_extension": ".py",
   "mimetype": "text/x-python",
   "name": "python",
   "nbconvert_exporter": "python",
   "pygments_lexer": "ipython3",
   "version": "3.6.1"
  }
 },
 "nbformat": 4,
 "nbformat_minor": 2
}
