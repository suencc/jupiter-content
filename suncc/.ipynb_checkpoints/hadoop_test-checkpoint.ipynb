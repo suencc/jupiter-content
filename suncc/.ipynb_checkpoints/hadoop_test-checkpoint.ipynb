{
 "cells": [
  {
   "cell_type": "code",
   "execution_count": 7,
   "metadata": {},
   "outputs": [
    {
     "name": "stdout",
     "output_type": "stream",
     "text": [
      "[]\n",
      "b'row-key-1' {b'cf1:col1': b'value11', b'cf2:col2': b'value12'}\n",
      "b'row-key-2' {b'cf1:col1': b'value21', b'cf2:col2': b'value22'}\n",
      "b'row-key-3' {b'cf1:col1': b'value31', b'cf2:col2': b'value32'}\n",
      "b'row-key-4' {b'cf1:col1': b'value41', b'cf2:col2': b'value42'}\n",
      "b'rowkey001' {b'cf1:age': b'28', b'cf1:name': b'karry'}\n",
      "b'rowkey002' {b'cf1:name': b'alisa', b'cf2:age': b'3'}\n"
     ]
    }
   ],
   "source": [
    "# -*- coding:utf-8 -*-\n",
    "import happybase\n",
    "# 链接数据库\n",
    "connection = happybase.Connection('47.93.144.37')\n",
    "#查看所有表\n",
    "tables = connection.tables()\n",
    "print(tables)\n",
    "\n",
    "#选中表\n",
    "tbl = connection.table(b'member')\n",
    "# #遍历表\n",
    "# for key, data in tbl.scan():\n",
    "#     print(key, data)\n",
    "\n",
    "# #分割线\n",
    "# print('111===========================================================')\n",
    "\n",
    "# #获取行\n",
    "# row = tbl.row('xiaofeng')\n",
    "# print(row)\n",
    "\n",
    "# #获取指定行的， 指定列族 \n",
    "# row = tbl.row(b'xiaofeng', columns=[b'address'])\n",
    "# print(row)\n",
    "\n",
    "# #分割线\n",
    "# print('222===========================================================')\n",
    "\n",
    "#创建表\n",
    "# connection.delete_table(b'test_0')\n",
    "# connection.delete_table(b'test_1')\n",
    "families = {\n",
    "    'cf1': dict(max_versions=10),\n",
    "    'cf2': dict(max_versions=1, block_cache_enabled=False),\n",
    "    'cf3': dict(),  # use defaults\n",
    "}\n",
    "tbl0 = connection.create_table('test_0', families)\n",
    "# tbl1 = connection.create_table('test_1', families)\n",
    "\n",
    "# #删除表\n",
    "# connection.disable_table(b'test_0')\n",
    "# connection.delete_table(b'test_0')\n",
    "tbl1 = connection.table(b'test_0')\n",
    "# tables = connection.tables()\n",
    "# print(tables)\n",
    "\n",
    "#单条存入\n",
    "tbl1.put('rowkey001',{'cf1:name': 'karry', 'cf1:age': '28'})\n",
    "tbl1.put('rowkey002',{'cf1:name': 'alisa', 'cf2:age': '3'})\n",
    "\n",
    "#批量存入\n",
    "with tbl1.batch() as b:\n",
    "    b.put('row-key-1', {'cf1:col1': 'value11', 'cf2:col2': 'value12'})\n",
    "    b.put('row-key-2', {'cf1:col1': 'value21', 'cf2:col2': 'value22'})\n",
    "    b.put('row-key-3', {'cf1:col1': 'value31', 'cf2:col2': 'value32'})\n",
    "    b.put('row-key-4', {'cf1:col1': 'value41', 'cf2:col2': 'value42'}) \n",
    "    b.send()\n",
    "\n",
    "#遍历表\n",
    "for key, data in tbl1.scan():\n",
    "    print(key, data)  \n",
    "\n",
    "# #分割线\n",
    "# print('333===========================================================')    \n",
    "    \n",
    "# #删除数据\n",
    "# tbl1.delete('row-key-2')\n",
    "# tbl1.delete('row-key-3', columns=['cf1:col1'])\n",
    "\n",
    "# #遍历表\n",
    "# for key, data in tbl1.scan():\n",
    "#     print(key, data)  \n",
    "    \n",
    "\n"
   ]
  },
  {
   "cell_type": "code",
   "execution_count": 1,
   "metadata": {},
   "outputs": [
    {
     "ename": "IOError",
     "evalue": "IOError(message=b\"org.apache.hadoop.hbase.TableNotFoundException: Table 'phonepraise_in_comments' was not found, got: hbase:namespace.\\n\\tat org.apache.hadoop.hbase.client.ConnectionManager$HConnectionImplementation.locateRegionInMeta(ConnectionManager.java:1284)\\n\\tat org.apache.hadoop.hbase.client.ConnectionManager$HConnectionImplementation.locateRegion(ConnectionManager.java:1165)\\n\\tat org.apache.hadoop.hbase.client.RpcRetryingCallerWithReadReplicas.getRegionLocations(RpcRetryingCallerWithReadReplicas.java:300)\\n\\tat org.apache.hadoop.hbase.client.ScannerCallableWithReplicas.call(ScannerCallableWithReplicas.java:156)\\n\\tat org.apache.hadoop.hbase.client.ScannerCallableWithReplicas.call(ScannerCallableWithReplicas.java:60)\\n\\tat org.apache.hadoop.hbase.client.RpcRetryingCaller.callWithoutRetries(RpcRetryingCaller.java:200)\\n\\tat org.apache.hadoop.hbase.client.ClientScanner.call(ClientScanner.java:327)\\n\\tat org.apache.hadoop.hbase.client.ClientScanner.nextScanner(ClientScanner.java:302)\\n\\tat org.apache.hadoop.hbase.client.ClientScanner.initializeScannerInConstruction(ClientScanner.java:167)\\n\\tat org.apache.hadoop.hbase.client.ClientScanner.<init>(ClientScanner.java:162)\\n\\tat org.apache.hadoop.hbase.client.HTable.getScanner(HTable.java:794)\\n\\tat org.apache.hadoop.hbase.thrift.ThriftServerRunner$HBaseHandler.scannerOpenWithScan(ThriftServerRunner.java:1472)\\n\\tat sun.reflect.NativeMethodAccessorImpl.invoke0(Native Method)\\n\\tat sun.reflect.NativeMethodAccessorImpl.invoke(NativeMethodAccessorImpl.java:62)\\n\\tat sun.reflect.DelegatingMethodAccessorImpl.invoke(DelegatingMethodAccessorImpl.java:43)\\n\\tat java.lang.reflect.Method.invoke(Method.java:498)\\n\\tat org.apache.hadoop.hbase.thrift.HbaseHandlerMetricsProxy.invoke(HbaseHandlerMetricsProxy.java:67)\\n\\tat com.sun.proxy.$Proxy11.scannerOpenWithScan(Unknown Source)\\n\\tat org.apache.hadoop.hbase.thrift.generated.Hbase$Processor$scannerOpenWithScan.getResult(Hbase.java:4613)\\n\\tat org.apache.hadoop.hbase.thrift.generated.Hbase$Processor$scannerOpenWithScan.getResult(Hbase.java:4597)\\n\\tat org.apache.thrift.ProcessFunction.process(ProcessFunction.java:39)\\n\\tat org.apache.thrift.TBaseProcessor.process(TBaseProcessor.java:39)\\n\\tat org.apache.hadoop.hbase.thrift.TBoundedThreadPoolServer$ClientConnnection.run(TBoundedThreadPoolServer.java:289)\\n\\tat org.apache.hadoop.hbase.thrift.CallQueue$Call.run(CallQueue.java:64)\\n\\tat java.util.concurrent.ThreadPoolExecutor.runWorker(ThreadPoolExecutor.java:1142)\\n\\tat java.util.concurrent.ThreadPoolExecutor$Worker.run(ThreadPoolExecutor.java:617)\\n\\tat java.lang.Thread.run(Thread.java:745)\\n\")",
     "output_type": "error",
     "traceback": [
      "\u001b[0;31m---------------------------------------------------------------------------\u001b[0m",
      "\u001b[0;31mIOError\u001b[0m                                   Traceback (most recent call last)",
      "\u001b[0;32m<ipython-input-1-1cff1c6f7a9f>\u001b[0m in \u001b[0;36m<module>\u001b[0;34m()\u001b[0m\n\u001b[1;32m      9\u001b[0m \u001b[0;31m#选中表\u001b[0m\u001b[0;34m\u001b[0m\u001b[0;34m\u001b[0m\u001b[0m\n\u001b[1;32m     10\u001b[0m \u001b[0mtbl\u001b[0m \u001b[0;34m=\u001b[0m \u001b[0mconnection\u001b[0m\u001b[0;34m.\u001b[0m\u001b[0mtable\u001b[0m\u001b[0;34m(\u001b[0m\u001b[0;34m'phonepraise_in_comments'\u001b[0m\u001b[0;34m)\u001b[0m\u001b[0;34m\u001b[0m\u001b[0m\n\u001b[0;32m---> 11\u001b[0;31m \u001b[0;32mfor\u001b[0m \u001b[0mx\u001b[0m \u001b[0;32min\u001b[0m \u001b[0mtbl\u001b[0m\u001b[0;34m.\u001b[0m\u001b[0mscan\u001b[0m\u001b[0;34m(\u001b[0m\u001b[0;34m)\u001b[0m\u001b[0;34m:\u001b[0m\u001b[0;34m\u001b[0m\u001b[0m\n\u001b[0m\u001b[1;32m     12\u001b[0m     \u001b[0mprint\u001b[0m\u001b[0;34m(\u001b[0m\u001b[0mx\u001b[0m\u001b[0;34m)\u001b[0m\u001b[0;34m\u001b[0m\u001b[0m\n",
      "\u001b[0;32m/home/suncc/.pyenv/versions/3.6.1/envs/env361/lib/python3.6/site-packages/happybase/table.py\u001b[0m in \u001b[0;36mscan\u001b[0;34m(self, row_start, row_stop, row_prefix, columns, filter, timestamp, include_timestamp, batch_size, scan_batching, limit, sorted_columns, reverse)\u001b[0m\n\u001b[1;32m    400\u001b[0m             )\n\u001b[1;32m    401\u001b[0m             scan_id = self.connection.client.scannerOpenWithScan(\n\u001b[0;32m--> 402\u001b[0;31m                 self.name, scan, {})\n\u001b[0m\u001b[1;32m    403\u001b[0m \u001b[0;34m\u001b[0m\u001b[0m\n\u001b[1;32m    404\u001b[0m         \u001b[0mlogger\u001b[0m\u001b[0;34m.\u001b[0m\u001b[0mdebug\u001b[0m\u001b[0;34m(\u001b[0m\u001b[0;34m\"Opened scanner (id=%d) on '%s'\"\u001b[0m\u001b[0;34m,\u001b[0m \u001b[0mscan_id\u001b[0m\u001b[0;34m,\u001b[0m \u001b[0mself\u001b[0m\u001b[0;34m.\u001b[0m\u001b[0mname\u001b[0m\u001b[0;34m)\u001b[0m\u001b[0;34m\u001b[0m\u001b[0m\n",
      "\u001b[0;32m/home/suncc/.pyenv/versions/3.6.1/envs/env361/lib/python3.6/site-packages/thriftpy/thrift.py\u001b[0m in \u001b[0;36m_req\u001b[0;34m(self, _api, *args, **kwargs)\u001b[0m\n\u001b[1;32m    196\u001b[0m         \u001b[0;31m# wait result only if non-oneway\u001b[0m\u001b[0;34m\u001b[0m\u001b[0;34m\u001b[0m\u001b[0m\n\u001b[1;32m    197\u001b[0m         \u001b[0;32mif\u001b[0m \u001b[0;32mnot\u001b[0m \u001b[0mgetattr\u001b[0m\u001b[0;34m(\u001b[0m\u001b[0mresult_cls\u001b[0m\u001b[0;34m,\u001b[0m \u001b[0;34m\"oneway\"\u001b[0m\u001b[0;34m)\u001b[0m\u001b[0;34m:\u001b[0m\u001b[0;34m\u001b[0m\u001b[0m\n\u001b[0;32m--> 198\u001b[0;31m             \u001b[0;32mreturn\u001b[0m \u001b[0mself\u001b[0m\u001b[0;34m.\u001b[0m\u001b[0m_recv\u001b[0m\u001b[0;34m(\u001b[0m\u001b[0m_api\u001b[0m\u001b[0;34m)\u001b[0m\u001b[0;34m\u001b[0m\u001b[0m\n\u001b[0m\u001b[1;32m    199\u001b[0m \u001b[0;34m\u001b[0m\u001b[0m\n\u001b[1;32m    200\u001b[0m     \u001b[0;32mdef\u001b[0m \u001b[0m_send\u001b[0m\u001b[0;34m(\u001b[0m\u001b[0mself\u001b[0m\u001b[0;34m,\u001b[0m \u001b[0m_api\u001b[0m\u001b[0;34m,\u001b[0m \u001b[0;34m**\u001b[0m\u001b[0mkwargs\u001b[0m\u001b[0;34m)\u001b[0m\u001b[0;34m:\u001b[0m\u001b[0;34m\u001b[0m\u001b[0m\n",
      "\u001b[0;32m/home/suncc/.pyenv/versions/3.6.1/envs/env361/lib/python3.6/site-packages/thriftpy/thrift.py\u001b[0m in \u001b[0;36m_recv\u001b[0;34m(self, _api)\u001b[0m\n\u001b[1;32m    228\u001b[0m         \u001b[0;32mfor\u001b[0m \u001b[0mk\u001b[0m\u001b[0;34m,\u001b[0m \u001b[0mv\u001b[0m \u001b[0;32min\u001b[0m \u001b[0mresult\u001b[0m\u001b[0;34m.\u001b[0m\u001b[0m__dict__\u001b[0m\u001b[0;34m.\u001b[0m\u001b[0mitems\u001b[0m\u001b[0;34m(\u001b[0m\u001b[0;34m)\u001b[0m\u001b[0;34m:\u001b[0m\u001b[0;34m\u001b[0m\u001b[0m\n\u001b[1;32m    229\u001b[0m             \u001b[0;32mif\u001b[0m \u001b[0mk\u001b[0m \u001b[0;34m!=\u001b[0m \u001b[0;34m\"success\"\u001b[0m \u001b[0;32mand\u001b[0m \u001b[0mv\u001b[0m\u001b[0;34m:\u001b[0m\u001b[0;34m\u001b[0m\u001b[0m\n\u001b[0;32m--> 230\u001b[0;31m                 \u001b[0;32mraise\u001b[0m \u001b[0mv\u001b[0m\u001b[0;34m\u001b[0m\u001b[0m\n\u001b[0m\u001b[1;32m    231\u001b[0m \u001b[0;34m\u001b[0m\u001b[0m\n\u001b[1;32m    232\u001b[0m         \u001b[0;31m# no throws & not void api\u001b[0m\u001b[0;34m\u001b[0m\u001b[0;34m\u001b[0m\u001b[0m\n",
      "\u001b[0;31mIOError\u001b[0m: IOError(message=b\"org.apache.hadoop.hbase.TableNotFoundException: Table 'phonepraise_in_comments' was not found, got: hbase:namespace.\\n\\tat org.apache.hadoop.hbase.client.ConnectionManager$HConnectionImplementation.locateRegionInMeta(ConnectionManager.java:1284)\\n\\tat org.apache.hadoop.hbase.client.ConnectionManager$HConnectionImplementation.locateRegion(ConnectionManager.java:1165)\\n\\tat org.apache.hadoop.hbase.client.RpcRetryingCallerWithReadReplicas.getRegionLocations(RpcRetryingCallerWithReadReplicas.java:300)\\n\\tat org.apache.hadoop.hbase.client.ScannerCallableWithReplicas.call(ScannerCallableWithReplicas.java:156)\\n\\tat org.apache.hadoop.hbase.client.ScannerCallableWithReplicas.call(ScannerCallableWithReplicas.java:60)\\n\\tat org.apache.hadoop.hbase.client.RpcRetryingCaller.callWithoutRetries(RpcRetryingCaller.java:200)\\n\\tat org.apache.hadoop.hbase.client.ClientScanner.call(ClientScanner.java:327)\\n\\tat org.apache.hadoop.hbase.client.ClientScanner.nextScanner(ClientScanner.java:302)\\n\\tat org.apache.hadoop.hbase.client.ClientScanner.initializeScannerInConstruction(ClientScanner.java:167)\\n\\tat org.apache.hadoop.hbase.client.ClientScanner.<init>(ClientScanner.java:162)\\n\\tat org.apache.hadoop.hbase.client.HTable.getScanner(HTable.java:794)\\n\\tat org.apache.hadoop.hbase.thrift.ThriftServerRunner$HBaseHandler.scannerOpenWithScan(ThriftServerRunner.java:1472)\\n\\tat sun.reflect.NativeMethodAccessorImpl.invoke0(Native Method)\\n\\tat sun.reflect.NativeMethodAccessorImpl.invoke(NativeMethodAccessorImpl.java:62)\\n\\tat sun.reflect.DelegatingMethodAccessorImpl.invoke(DelegatingMethodAccessorImpl.java:43)\\n\\tat java.lang.reflect.Method.invoke(Method.java:498)\\n\\tat org.apache.hadoop.hbase.thrift.HbaseHandlerMetricsProxy.invoke(HbaseHandlerMetricsProxy.java:67)\\n\\tat com.sun.proxy.$Proxy11.scannerOpenWithScan(Unknown Source)\\n\\tat org.apache.hadoop.hbase.thrift.generated.Hbase$Processor$scannerOpenWithScan.getResult(Hbase.java:4613)\\n\\tat org.apache.hadoop.hbase.thrift.generated.Hbase$Processor$scannerOpenWithScan.getResult(Hbase.java:4597)\\n\\tat org.apache.thrift.ProcessFunction.process(ProcessFunction.java:39)\\n\\tat org.apache.thrift.TBaseProcessor.process(TBaseProcessor.java:39)\\n\\tat org.apache.hadoop.hbase.thrift.TBoundedThreadPoolServer$ClientConnnection.run(TBoundedThreadPoolServer.java:289)\\n\\tat org.apache.hadoop.hbase.thrift.CallQueue$Call.run(CallQueue.java:64)\\n\\tat java.util.concurrent.ThreadPoolExecutor.runWorker(ThreadPoolExecutor.java:1142)\\n\\tat java.util.concurrent.ThreadPoolExecutor$Worker.run(ThreadPoolExecutor.java:617)\\n\\tat java.lang.Thread.run(Thread.java:745)\\n\")"
     ]
    }
   ],
   "source": [
    "# -*- coding:utf-8 -*-\n",
    "import happybase\n",
    "# 链接数据库\n",
    "connection = happybase.Connection('47.93.144.37')\n",
    "# #查看所有表\n",
    "# tables = connection.tables()\n",
    "# print(tables)\n",
    "\n",
    "#选中表\n",
    "tbl = connection.table('phonepraise_in_comments')\n",
    "for x in tbl.scan():\n",
    "    print(x)\n"
   ]
  },
  {
   "cell_type": "code",
   "execution_count": 5,
   "metadata": {},
   "outputs": [
    {
     "data": {
      "text/plain": [
       "[]"
      ]
     },
     "execution_count": 5,
     "metadata": {},
     "output_type": "execute_result"
    }
   ],
   "source": [
    "import happybase\n",
    "conn = happybase.Connection('47.93.144.37')\n",
    "# dir(happybase)\n",
    "# tbl = conn.table('test_1')\n",
    "# help(tbl.put)\n",
    "# help(conn.delete_table)\n",
    "# tbl = conn.table('member')\n",
    "# dir(tbl)\n",
    "# help(tbl.scan)\n",
    "# help(conn.create_table)\n",
    "# tbl = conn.table('test_1')\n",
    "# print(tbl)\n",
    "# help(happybase.Connection)\n",
    "# conn.tables()\n"
   ]
  },
  {
   "cell_type": "code",
   "execution_count": 42,
   "metadata": {},
   "outputs": [
    {
     "name": "stdout",
     "output_type": "stream",
     "text": [
      "b'test_0'\n"
     ]
    }
   ],
   "source": [
    "import happybase\n",
    "from bson import ObjectId\n",
    "\n",
    "conn = happybase.Connection('47.93.144.37')\n",
    "# tbl0 = conn.table(b'test_0')\n",
    "# #遍历表\n",
    "# for key, data in tbl0.scan():\n",
    "#     print(key.hex())\n",
    "#     break\n",
    "# id = ObjectId('59c9d98b8cb1ee3bfc7fdc59')\n",
    "# print(id)\n",
    "ll = conn.tables()\n",
    "for x in ll:\n",
    "    if x.decode() == 'test_0':\n",
    "        continue\n",
    "    conn.disable_table(x)\n",
    "    conn.delete_table(x)\n",
    "        "
   ]
  }
 ],
 "metadata": {
  "kernelspec": {
   "display_name": "Python 3",
   "language": "python",
   "name": "python3"
  },
  "language_info": {
   "codemirror_mode": {
    "name": "ipython",
    "version": 3
   },
   "file_extension": ".py",
   "mimetype": "text/x-python",
   "name": "python",
   "nbconvert_exporter": "python",
   "pygments_lexer": "ipython3",
   "version": "3.6.1"
  }
 },
 "nbformat": 4,
 "nbformat_minor": 2
}
