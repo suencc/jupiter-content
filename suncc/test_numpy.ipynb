{
 "cells": [
  {
   "cell_type": "code",
   "execution_count": 37,
   "metadata": {},
   "outputs": [
    {
     "name": "stdout",
     "output_type": "stream",
     "text": [
      "1.12.1\n",
      "[ 1  2  3  4  5  6  7  8  9 10 11 12 13 14 15 16 17 18 19 20 21 22 23 24]\n",
      "[[[[ 1  2  3]\n",
      "   [ 4  5  6]]\n",
      "\n",
      "  [[ 7  8  9]\n",
      "   [10 11 12]]]\n",
      "\n",
      "\n",
      " [[[13 14 15]\n",
      "   [16 17 18]]\n",
      "\n",
      "  [[19 20 21]\n",
      "   [22 23 24]]]]\n"
     ]
    }
   ],
   "source": [
    "import numpy as np\n",
    "print(np.__version__)\n",
    "# dir(np)\n",
    "# aa = np.arange(10) \n",
    "# print(aa)\n",
    "# print(type(aa))\n",
    "a1 = np.arange(1, 13)\n",
    "a2 = np.arange(13, 25)\n",
    "# print(aa, bb)\n",
    "# help(np.concatenate)\n",
    "a = np.concatenate((a1, a2))\n",
    "print(a)\n",
    "# help(np.hsplit)\n",
    "# hh = np.hsplit(a, (2,4,6,25))\n",
    "# print(hh)\n",
    "# help(np.split)\n",
    "# ss = np.split(a, [2], 0)\n",
    "# print(ss)\n",
    "\n",
    "bb = a.reshape(2,2,2,3)\n",
    "# print(bb)\n",
    "# dd = np.hsplit(bb, 2)\n",
    "# print(dd)\n",
    "# help(np.vsplit)\n",
    "# ee = np.vsplit(a, 2)\n",
    "# print(ee)\n",
    "# help(np.hsplit)\n",
    "# # aa = np.split(a, 2, axis=0)\n",
    "# aa = np.hsplit(a,2)\n",
    "# print(aa)\n",
    "print(bb)\n"
   ]
  },
  {
   "cell_type": "code",
   "execution_count": null,
   "metadata": {
    "collapsed": true
   },
   "outputs": [],
   "source": []
  },
  {
   "cell_type": "code",
   "execution_count": null,
   "metadata": {
    "collapsed": true
   },
   "outputs": [],
   "source": []
  }
 ],
 "metadata": {
  "kernelspec": {
   "display_name": "Python 3",
   "language": "python",
   "name": "python3"
  },
  "language_info": {
   "codemirror_mode": {
    "name": "ipython",
    "version": 3
   },
   "file_extension": ".py",
   "mimetype": "text/x-python",
   "name": "python",
   "nbconvert_exporter": "python",
   "pygments_lexer": "ipython3",
   "version": "3.6.1"
  }
 },
 "nbformat": 4,
 "nbformat_minor": 2
}
