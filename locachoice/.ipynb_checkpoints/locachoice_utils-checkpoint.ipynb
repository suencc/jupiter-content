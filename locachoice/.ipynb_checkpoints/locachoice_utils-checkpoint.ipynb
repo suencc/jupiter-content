{
 "cells": [
  {
   "cell_type": "code",
   "execution_count": 9,
   "metadata": {},
   "outputs": [
    {
     "name": "stdout",
     "output_type": "stream",
     "text": [
      "gridid = R1C1, right gridid = R1C1\n",
      "gridid = R2C2, right gridid = R2C2\n",
      "gridid = R18C20, right gridid = R18C20\n",
      "gridid = R5C7, right gridid = R5C7\n",
      "gridid = R6C7, right gridid = R6C7\n",
      "gridid = R9C13, right gridid = R9C13\n",
      "gridid = R9C19, right gridid = R9C19\n",
      "gridid = R15C17, right gridid = R15C17\n",
      "gridid = R15C19, right gridid = R15C19\n",
      "gridid = R18C12, right gridid = R18C13\n"
     ]
    }
   ],
   "source": [
    "# -*- coding:utf-8 -*-\n",
    "import requests\n",
    "\n",
    "def getlocation(addr, city='广州'):\n",
    "    url = 'http://api.map.baidu.com/geocoder/v2/'\n",
    "    try:\n",
    "        params = {'output': 'json', 'ak': '0ZqFawNu58dvih0zpLvBNKDdSLGX6wGC', 'address': addr, 'city': city }\n",
    "        r = requests.get(url, params)\n",
    "        print(r.url)\n",
    "        if r.status_code == 200 or r.status_code == 304:\n",
    "            print(r.json()['result']['location'])\n",
    "            return r.json()['result']['location']\n",
    "        else:\n",
    "            print(r.status_code)\n",
    "            return r.status_code\n",
    "    except Exception as e:\n",
    "        print(\"ERROR:\", e)\n",
    "        return 404\n",
    "    \n",
    "START_LNG  = 113.297942\n",
    "END_LNG = 113.466578\n",
    "START_LAT = 23.093353\n",
    "END_LAT = 23.263226\n",
    "LNG_GRIDS = 20\n",
    "LAT_GRIDS = 18\n",
    "LNG_DELTA = round((END_LNG - START_LNG) / LNG_GRIDS, 7)\n",
    "LAT_DELTA = round((END_LAT - START_LAT) / LAT_GRIDS, 7)\n",
    "\n",
    "# 不在范围内则返回 -1\n",
    "# 边界值时会出现随机现象，和python的浮点处理不精确有关\n",
    "# 只要保证插入和读取都用此函数，不影响分析正确性\n",
    "# 查表获取ID，太繁琐低效，后续如有需要则改为查表\n",
    "def get_grid_id(lng, lat):\n",
    "    column = round((lng - START_LNG),7) // LNG_DELTA + 1\n",
    "    row = round((END_LAT - lat),7) // LAT_DELTA + 1\n",
    "    if column < 1 or column > 20: return -1\n",
    "    if row < 1 or row > 18: return -1\n",
    "    ret = 'R%dC%d' % (row, column)\n",
    "    return ret    \n",
    "\n",
    "# 测试函数    \n",
    "def test_grid_id():\n",
    "    # 边界测试\n",
    "    gridid = get_grid_id(113.29794200,23.26322600)\n",
    "    print('gridid = %s, right gridid = R1C1' % gridid)    \n",
    "    gridid = get_grid_id(113.3063738,23.2537886)\n",
    "    print('gridid = %s, right gridid = R2C2' % gridid)\n",
    "    gridid = get_grid_id(113.466577,23.093353)\n",
    "    print('gridid = %s, right gridid = R18C20' % gridid)\n",
    "    gridid = get_grid_id(113.3485328,23.216039)\n",
    "    print('gridid = %s, right gridid = R5C7' % gridid)\n",
    "    gridid = get_grid_id(113.3485328,23.2066016)\n",
    "    print('gridid = %s, right gridid = R6C7' % gridid)    \n",
    "    # 一般测试\n",
    "    gridid = get_grid_id(113.3991237,23.1877267)\n",
    "    print('gridid = %s, right gridid = R9C13' % gridid) \n",
    "    gridid = get_grid_id(113.4581461,23.1782895)\n",
    "    print('gridid = %s, right gridid = R9C19' % gridid)\n",
    "    gridid = get_grid_id(113.4328509,23.121666)\n",
    "    print('gridid = %s, right gridid = R15C17' % gridid)\n",
    "    gridid = get_grid_id(113.4581461,23.1311023)\n",
    "    print('gridid = %s, right gridid = R15C19' % gridid)\n",
    "    gridid = get_grid_id(113.3906919,23.1027901)\n",
    "    print('gridid = %s, right gridid = R18C12' % gridid)  \n",
    "if __name__ == '__main__':\n",
    "    test_grid_id()"
   ]
  }
 ],
 "metadata": {
  "kernelspec": {
   "display_name": "Python 3",
   "language": "python",
   "name": "python3"
  },
  "language_info": {
   "codemirror_mode": {
    "name": "ipython",
    "version": 3
   },
   "file_extension": ".py",
   "mimetype": "text/x-python",
   "name": "python",
   "nbconvert_exporter": "python",
   "pygments_lexer": "ipython3",
   "version": "3.6.1"
  }
 },
 "nbformat": 4,
 "nbformat_minor": 2
}
