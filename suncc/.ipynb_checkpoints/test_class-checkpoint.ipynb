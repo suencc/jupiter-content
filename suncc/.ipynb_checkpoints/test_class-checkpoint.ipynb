{
 "cells": [
  {
   "cell_type": "code",
   "execution_count": 13,
   "metadata": {},
   "outputs": [
    {
     "data": {
      "text/plain": [
       "str"
      ]
     },
     "execution_count": 13,
     "metadata": {},
     "output_type": "execute_result"
    }
   ],
   "source": [
    "a = 'aa'\n",
    "b = b'bb'\n",
    "s = b.decode()\n",
    "type(s)"
   ]
  },
  {
   "cell_type": "code",
   "execution_count": 3,
   "metadata": {},
   "outputs": [
    {
     "name": "stdout",
     "output_type": "stream",
     "text": [
      "base inited\n",
      "base log.\n",
      "statis inited\n",
      "statis log.\n",
      "rslt inited\n",
      "rslt log.\n"
     ]
    }
   ],
   "source": [
    "class Base(object):\n",
    "    def __init__(self, name):\n",
    "        self.name = name\n",
    "        print(self.name,'inited')\n",
    "    def log(self):\n",
    "        print(self.name, 'log.')\n",
    "        \n",
    "class Statis(Base):\n",
    "    def log(self):\n",
    "        print(self.name, 'Statis log.')\n",
    "        \n",
    "class Result(Base):\n",
    "    def log(self):\n",
    "        print(self.name, 'Result log.')\n",
    "\n",
    "a = Base('base')\n",
    "a.log()\n",
    "\n",
    "statis = Statis('s')\n",
    "statis.log()\n",
    "\n",
    "rslt = Result('r')\n",
    "rslt.log()"
   ]
  }
 ],
 "metadata": {
  "kernelspec": {
   "display_name": "Python 3",
   "language": "python",
   "name": "python3"
  },
  "language_info": {
   "codemirror_mode": {
    "name": "ipython",
    "version": 3
   },
   "file_extension": ".py",
   "mimetype": "text/x-python",
   "name": "python",
   "nbconvert_exporter": "python",
   "pygments_lexer": "ipython3",
   "version": "3.6.1"
  }
 },
 "nbformat": 4,
 "nbformat_minor": 2
}
