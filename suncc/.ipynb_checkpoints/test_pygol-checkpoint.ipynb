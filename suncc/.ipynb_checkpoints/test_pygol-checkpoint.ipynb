{
 "cells": [
  {
   "cell_type": "code",
   "execution_count": 4,
   "metadata": {
    "collapsed": true
   },
   "outputs": [],
   "source": [
    "import random\n",
    "import pygal\n",
    "\n",
    "class Die:\n",
    "    \"\"\"\n",
    "    一个骰子类\n",
    "    \"\"\"\n",
    "    def __init__(self, num_sides=6):\n",
    "        self.num_sides = num_sides\n",
    "        \n",
    "    def roll(self):\n",
    "        return random.randint(1, self.num_sides)\n",
    "    \n",
    "die = Die()\n",
    "result_list = []\n",
    "# 掷1000次\n",
    "for roll_num in range(1000):\n",
    "    result = die.roll()\n",
    "    result_list.append(result)\n",
    "    \n",
    "frequencies = []\n",
    "# 范围1~6，统计每个数字出现的次数\n",
    "for value in range(1, die.num_sides + 1):\n",
    "    frequency = result_list.count(value)\n",
    "    frequencies.append(frequency)\n",
    "    \n",
    "# 条形图\n",
    "hist = pygal.Bar()\n",
    "hist.title = 'Results of rolling one D6 1000 times'\n",
    "# x轴坐标\n",
    "hist.x_labels = [\"浦东\", '浦西', 3, 4, 5, 6]\n",
    "# x、y轴的描述\n",
    "hist.x_title = 'Result'\n",
    "hist.y_title = 'Frequency of Result'\n",
    "# 添加数据， 第一个参数是数据的标题\n",
    "hist.add('D6', frequencies)\n",
    "# 保存到本地，格式必须是svg\n",
    "hist.render_to_file('die_visual.svg')"
   ]
  },
  {
   "cell_type": "code",
   "execution_count": 1,
   "metadata": {},
   "outputs": [
    {
     "ename": "NameError",
     "evalue": "name 'frequencies' is not defined",
     "output_type": "error",
     "traceback": [
      "\u001b[0;31m---------------------------------------------------------------------------\u001b[0m",
      "\u001b[0;31mNameError\u001b[0m                                 Traceback (most recent call last)",
      "\u001b[0;32m<ipython-input-1-c6cb1232fd05>\u001b[0m in \u001b[0;36m<module>\u001b[0;34m()\u001b[0m\n\u001b[1;32m     10\u001b[0m \u001b[0mhist\u001b[0m\u001b[0;34m.\u001b[0m\u001b[0my_title\u001b[0m \u001b[0;34m=\u001b[0m \u001b[0;34m'Frequency of Result'\u001b[0m\u001b[0;34m\u001b[0m\u001b[0m\n\u001b[1;32m     11\u001b[0m \u001b[0;31m# 添加数据， 第一个参数是数据的标题\u001b[0m\u001b[0;34m\u001b[0m\u001b[0;34m\u001b[0m\u001b[0m\n\u001b[0;32m---> 12\u001b[0;31m \u001b[0mhist\u001b[0m\u001b[0;34m.\u001b[0m\u001b[0madd\u001b[0m\u001b[0;34m(\u001b[0m\u001b[0;34m'D6'\u001b[0m\u001b[0;34m,\u001b[0m \u001b[0mfrequencies\u001b[0m\u001b[0;34m)\u001b[0m\u001b[0;34m\u001b[0m\u001b[0m\n\u001b[0m\u001b[1;32m     13\u001b[0m \u001b[0;31m# 保存到本地，格式必须是svg\u001b[0m\u001b[0;34m\u001b[0m\u001b[0;34m\u001b[0m\u001b[0m\n\u001b[1;32m     14\u001b[0m \u001b[0mhist\u001b[0m\u001b[0;34m.\u001b[0m\u001b[0mrender_to_file\u001b[0m\u001b[0;34m(\u001b[0m\u001b[0;34m'die_visual.svg'\u001b[0m\u001b[0;34m)\u001b[0m\u001b[0;34m\u001b[0m\u001b[0m\n",
      "\u001b[0;31mNameError\u001b[0m: name 'frequencies' is not defined"
     ]
    }
   ],
   "source": [
    "import pygal\n",
    "\n",
    "district = ['嘉定区', '奉贤区', '宝山区', '崇明县', '徐汇区', '普陀区', '杨浦区', '松江区', '浦东新区', '虹口区', '金山区', '长宁区', '闵行区', '闸北区', '青浦区', '静安区','黄浦区']\n",
    "prim_school = [46, 37, 71, 31, 58, 14, 53, 42, 209, 41, 26, 34, 80, 8, 36, 55, 34]\n",
    "# 条形图\n",
    "hist = pygal.Bar()\n",
    "hist.title = '上海各区小学数量对别图'\n",
    "# x轴坐标\n",
    "hist.x_labels = district\n",
    "# x、y轴的描述\n",
    "hist.x_title = '上海市行政区'\n",
    "hist.y_title = '小学数'\n",
    "# 添加数据， 第一个参数是数据的标题\n",
    "hist.add('小学', prim_school)\n",
    "# 保存到本地，格式必须是svg\n",
    "hist.render_to_file('die_visual.svg')"
   ]
  }
 ],
 "metadata": {
  "kernelspec": {
   "display_name": "Python 3",
   "language": "python",
   "name": "python3"
  },
  "language_info": {
   "codemirror_mode": {
    "name": "ipython",
    "version": 3
   },
   "file_extension": ".py",
   "mimetype": "text/x-python",
   "name": "python",
   "nbconvert_exporter": "python",
   "pygments_lexer": "ipython3",
   "version": "3.6.1"
  }
 },
 "nbformat": 4,
 "nbformat_minor": 2
}
