{
 "cells": [
  {
   "cell_type": "code",
   "execution_count": 30,
   "metadata": {},
   "outputs": [
    {
     "name": "stdout",
     "output_type": "stream",
     "text": [
      "<class 'generator'>\n",
      "220\n"
     ]
    }
   ],
   "source": [
    "# 列表生成式\n",
    "[m + n for m in 'ABC' for n in 'XYZ']\n",
    "[x * x for x in range(1, 11) if x % 2 == 0]\n",
    "\n",
    "# generator expression\n",
    "t= (x * x for x in range(1, 11) if x % 2 == 0)\n",
    "print(type(t))\n",
    "print(sum(t))\n"
   ]
  },
  {
   "cell_type": "code",
   "execution_count": 34,
   "metadata": {},
   "outputs": [
    {
     "name": "stdout",
     "output_type": "stream",
     "text": [
      "0\n",
      "1\n",
      "1\n",
      "2\n",
      "3\n",
      "5\n",
      "8\n",
      "13\n",
      "21\n",
      "34\n",
      "55\n",
      "89\n",
      "0\n",
      "1\n",
      "1\n",
      "2\n",
      "3\n",
      "5\n",
      "8\n",
      "13\n",
      "21\n",
      "34\n",
      "55\n",
      "89\n",
      "144\n",
      "<class '__main__.Fibonacci'>\n",
      "0\n",
      "1\n",
      "1\n",
      "2\n",
      "3\n",
      "5\n",
      "8\n",
      "13\n",
      "21\n",
      "34\n",
      "<class 'generator'>\n",
      "<class 'itertools.islice'>\n",
      "0\n",
      "1\n",
      "1\n",
      "2\n",
      "3\n",
      "5\n",
      "8\n",
      "13\n",
      "21\n",
      "34\n"
     ]
    }
   ],
   "source": [
    "# 迭代器 class 实现\n",
    "from itertools import islice\n",
    "class Fibonacci:\n",
    "    def __init__(self):\n",
    "        self.prev = 0\n",
    "        self.curr = 1\n",
    "    \n",
    "    def __iter__(self):\n",
    "        return self\n",
    "    \n",
    "    def __next__(self):\n",
    "        value = self.prev\n",
    "        self.prev = self.curr\n",
    "        self.curr += value\n",
    "        return value\n",
    "    \n",
    "\n",
    "for i in Fibonacci():\n",
    "    if i >= 100:\n",
    "        break\n",
    "    print(i)\n",
    "    \n",
    "for i in Fibonacci():\n",
    "    if i >= 200:\n",
    "        break\n",
    "    print(i)\n",
    "    \n",
    "fib = Fibonacci()\n",
    "print(type(fib))\n",
    "ans = islice(fib, 0, 10)\n",
    "for x in ans:\n",
    "    print(x)\n",
    "\n",
    "# 迭代器 generator function 实现\n",
    "def fibonacci():\n",
    "    prev, curr = 0, 1\n",
    "    while True:\n",
    "        yield prev\n",
    "        prev, curr = curr, prev + curr\n",
    "\n",
    "fib = fibonacci()\n",
    "print(type(fib))\n",
    "ans = islice(fib, 0, 10)   \n",
    "print(type(ans))\n",
    "for x in ans:\n",
    "    print(x)"
   ]
  },
  {
   "cell_type": "code",
   "execution_count": 17,
   "metadata": {},
   "outputs": [
    {
     "name": "stdout",
     "output_type": "stream",
     "text": [
      "Help on class islice in module itertools:\n",
      "\n",
      "class islice(builtins.object)\n",
      " |  islice(iterable, stop) --> islice object\n",
      " |  islice(iterable, start, stop[, step]) --> islice object\n",
      " |  \n",
      " |  Return an iterator whose next() method returns selected values from an\n",
      " |  iterable.  If start is specified, will skip all preceding elements;\n",
      " |  otherwise, start defaults to zero.  Step defaults to one.  If\n",
      " |  specified as another value, step determines how many values are \n",
      " |  skipped between successive calls.  Works like a slice() on a list\n",
      " |  but returns an iterator.\n",
      " |  \n",
      " |  Methods defined here:\n",
      " |  \n",
      " |  __getattribute__(self, name, /)\n",
      " |      Return getattr(self, name).\n",
      " |  \n",
      " |  __iter__(self, /)\n",
      " |      Implement iter(self).\n",
      " |  \n",
      " |  __new__(*args, **kwargs) from builtins.type\n",
      " |      Create and return a new object.  See help(type) for accurate signature.\n",
      " |  \n",
      " |  __next__(self, /)\n",
      " |      Implement next(self).\n",
      " |  \n",
      " |  __reduce__(...)\n",
      " |      Return state information for pickling.\n",
      " |  \n",
      " |  __setstate__(...)\n",
      " |      Set state information for unpickling.\n",
      "\n"
     ]
    }
   ],
   "source": [
    "from itertools import islice\n",
    "class A:\n",
    "    pass\n",
    "help(islice)\n"
   ]
  }
 ],
 "metadata": {
  "kernelspec": {
   "display_name": "Python 3",
   "language": "python",
   "name": "python3"
  },
  "language_info": {
   "codemirror_mode": {
    "name": "ipython",
    "version": 3
   },
   "file_extension": ".py",
   "mimetype": "text/x-python",
   "name": "python",
   "nbconvert_exporter": "python",
   "pygments_lexer": "ipython3",
   "version": "3.6.3"
  }
 },
 "nbformat": 4,
 "nbformat_minor": 2
}
