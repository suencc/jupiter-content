{
 "cells": [
  {
   "cell_type": "code",
   "execution_count": 7,
   "metadata": {},
   "outputs": [
    {
     "name": "stdout",
     "output_type": "stream",
     "text": [
      "aaa\n"
     ]
    }
   ],
   "source": [
    "# -*- coding:utf-8 -*-\n",
    "import pymongo\n",
    "\n",
    "# 插入一条数据到 result_collection\n",
    "def insert_one2collection(rslt_coll, doc):\n",
    "    rslt_coll.insert_one(doc)\n",
    "\n",
    "# 删除指定collection, 当前未使用\n",
    "def calculateDistance(rslt_coll):\n",
    "    coll_name = rslt_coll._Collection__name\n",
    "    db = etl_utils.get_mongo_db()\n",
    "    ret = db.drop_collection(coll_name)\n",
    "    print('drop % status:' % coll_name, ret)\n",
    "\n",
    "def get_mongo_db():\n",
    "    conn = pymongo.MongoClient('192.168.1.6',27017).yqh_test\n",
    "    conn.authenticate('yuanqihua','yuanqihua')\n",
    "    return conn\n",
    "\n",
    "# input lat_A 纬度A\n",
    "# input lng_A 经度A\n",
    "# input lat_B 纬度B\n",
    "# input lng_B 经度B\n",
    "# output distance 距离(km)\n",
    "def calcDistance(lat_A, lng_A, lat_B, lng_B):\n",
    "    ra = 6378.140  # 赤道半径 (km)\n",
    "    rb = 6356.755  # 极半径 (km)\n",
    "    flatten = (ra - rb) / ra  # 地球扁率\n",
    "    rad_lat_A = radians(lat_A)\n",
    "    rad_lng_A = radians(lng_A)\n",
    "    rad_lat_B = radians(lat_B)\n",
    "    rad_lng_B = radians(lng_B)\n",
    "    pA = atan(rb / ra * tan(rad_lat_A))\n",
    "    pB = atan(rb / ra * tan(rad_lat_B))\n",
    "    xx = acos(sin(pA) * sin(pB) + cos(pA) * cos(pB) * cos(rad_lng_A - rad_lng_B))\n",
    "    c1 = (sin(xx) - xx) * (sin(pA) + sin(pB)) ** 2 / cos(xx / 2) ** 2\n",
    "    c2 = (sin(xx) + xx) * (sin(pA) - sin(pB)) ** 2 / sin(xx / 2) ** 2\n",
    "    dr = flatten / 8 * (c1 - c2)\n",
    "    distance = ra * (xx + dr)\n",
    "    return distance\n",
    "\n",
    "     \n",
    "if __name__ == '__main__':\n",
    "    # is_appenddate = etl_utils.is_export_new_result_coll()\n",
    "#     getDistanceCount()\n",
    "    print('aaa')"
   ]
  },
  {
   "cell_type": "code",
   "execution_count": null,
   "metadata": {
    "collapsed": true
   },
   "outputs": [],
   "source": []
  }
 ],
 "metadata": {
  "kernelspec": {
   "display_name": "Python 3",
   "language": "python",
   "name": "python3"
  },
  "language_info": {
   "codemirror_mode": {
    "name": "ipython",
    "version": 3
   },
   "file_extension": ".py",
   "mimetype": "text/x-python",
   "name": "python",
   "nbconvert_exporter": "python",
   "pygments_lexer": "ipython3",
   "version": "3.6.1"
  }
 },
 "nbformat": 4,
 "nbformat_minor": 2
}
