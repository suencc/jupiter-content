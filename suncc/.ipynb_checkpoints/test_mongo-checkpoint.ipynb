{
 "cells": [
  {
   "cell_type": "code",
   "execution_count": 12,
   "metadata": {},
   "outputs": [
    {
     "name": "stdout",
     "output_type": "stream",
     "text": [
      "start\n"
     ]
    },
    {
     "data": {
      "text/plain": [
       "['t_age_names',\n",
       " 'system.profile',\n",
       " 't',\n",
       " 'test555',\n",
       " 'test_333',\n",
       " 'population2010',\n",
       " 'crawl_city_map',\n",
       " 'myreslut',\n",
       " 'crawl_shunqi_result',\n",
       " 'test_nnn']"
      ]
     },
     "execution_count": 12,
     "metadata": {},
     "output_type": "execute_result"
    }
   ],
   "source": [
    "import pymongo\n",
    "def get_mongo_db():\n",
    "    conn = pymongo.MongoClient('101.201.151.9',3717).test\n",
    "    conn.authenticate('test','test')\n",
    "    return conn\n",
    "\n",
    "print('start')\n",
    "db = get_mongo_db()\n",
    "# print(db)\n",
    "coll = db['test_333']\n",
    "# cursor = coll.find()\n",
    "# help(cursor)\n",
    "# ll = [1,2 ,3,4]\n",
    "# sum(ll)\n",
    "\n",
    "# cursor = coll.find({}, {'code': })\n",
    "# for cur in cursor:\n",
    "#     print(cur)\n",
    "db.collection_names()"
   ]
  },
  {
   "cell_type": "code",
   "execution_count": 13,
   "metadata": {},
   "outputs": [
    {
     "ename": "AttributeError",
     "evalue": "'str' object has no attribute 'st'",
     "output_type": "error",
     "traceback": [
      "\u001b[0;31m---------------------------------------------------------------------------\u001b[0m",
      "\u001b[0;31mAttributeError\u001b[0m                            Traceback (most recent call last)",
      "\u001b[0;32m<ipython-input-13-69d30ce14638>\u001b[0m in \u001b[0;36m<module>\u001b[0;34m()\u001b[0m\n\u001b[0;32m----> 1\u001b[0;31m \u001b[0;34m'aa'\u001b[0m\u001b[0;34m.\u001b[0m\u001b[0mst\u001b[0m\u001b[0;34m\u001b[0m\u001b[0m\n\u001b[0m\u001b[1;32m      2\u001b[0m \u001b[0;34m\u001b[0m\u001b[0m\n",
      "\u001b[0;31mAttributeError\u001b[0m: 'str' object has no attribute 'st'"
     ]
    }
   ],
   "source": [
    "a = 'aa'\n",
    "a.\n",
    "\n"
   ]
  }
 ],
 "metadata": {
  "kernelspec": {
   "display_name": "Python 3",
   "language": "python",
   "name": "python3"
  },
  "language_info": {
   "codemirror_mode": {
    "name": "ipython",
    "version": 3
   },
   "file_extension": ".py",
   "mimetype": "text/x-python",
   "name": "python",
   "nbconvert_exporter": "python",
   "pygments_lexer": "ipython3",
   "version": "3.6.1"
  }
 },
 "nbformat": 4,
 "nbformat_minor": 2
}
