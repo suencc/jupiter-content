{
 "cells": [
  {
   "cell_type": "code",
   "execution_count": 1,
   "metadata": {},
   "outputs": [
    {
     "name": "stderr",
     "output_type": "stream",
     "text": [
      "2017-09-22 12:32:02,503 - mylogger - INFO - foorbar\n"
     ]
    }
   ],
   "source": [
    "import logging  \n",
    "  \n",
    "# 创建一个logger  \n",
    "logger = logging.getLogger('mylogger')  \n",
    "logger.setLevel(logging.DEBUG)  \n",
    "  \n",
    "# 创建一个handler，用于写入日志文件  \n",
    "fh = logging.FileHandler('test.log')  \n",
    "fh.setLevel(logging.DEBUG)  \n",
    "  \n",
    "# 再创建一个handler，用于输出到控制台  \n",
    "ch = logging.StreamHandler()  \n",
    "ch.setLevel(logging.DEBUG)  \n",
    "  \n",
    "# 定义handler的输出格式  \n",
    "formatter = logging.Formatter('%(asctime)s - %(name)s - %(levelname)s - %(message)s')  \n",
    "fh.setFormatter(formatter)  \n",
    "ch.setFormatter(formatter)  \n",
    "  \n",
    "# 给logger添加handler  \n",
    "logger.addHandler(fh)  \n",
    "logger.addHandler(ch)  \n",
    "  \n",
    "# 记录一条日志  \n",
    "logger.info('foorbar')  \n",
    "#该代码片段来自于: http://www.sharejs.com/codes/python/6248"
   ]
  }
 ],
 "metadata": {
  "kernelspec": {
   "display_name": "Python 3",
   "language": "python",
   "name": "python3"
  },
  "language_info": {
   "codemirror_mode": {
    "name": "ipython",
    "version": 3
   },
   "file_extension": ".py",
   "mimetype": "text/x-python",
   "name": "python",
   "nbconvert_exporter": "python",
   "pygments_lexer": "ipython3",
   "version": "3.6.1"
  }
 },
 "nbformat": 4,
 "nbformat_minor": 2
}
