{
 "cells": [
  {
   "cell_type": "code",
   "execution_count": null,
   "metadata": {},
   "outputs": [],
   "source": [
    "# 变量交换\n",
    "a, b = 1, 3\n",
    "a, b = b, a\n",
    "print(a, b)\n",
    "\n",
    "# 字符串连接\n",
    "names = ['raymond', 'rachel', 'matthew', 'roger', 'betty']\n",
    "print(','.join(names))\n",
    "\n",
    "#链式比较操作\n",
    "age =18\n",
    "if 18 < age < 60:\n",
    "    print('work person')\n",
    "else:\n",
    "    print('play person')\n",
    "    \n",
    "#条件判断\n",
    "n1 = []\n",
    "n2 = None\n",
    "n3 = 0 \n",
    "if not(n1 and n2 and n3):\n",
    "    print('n1 is False')\n",
    "\n",
    "\n"
   ]
  },
  {
   "cell_type": "code",
   "execution_count": 19,
   "metadata": {},
   "outputs": [
    {
     "name": "stdout",
     "output_type": "stream",
     "text": [
      "begin outer function.\n",
      "end of outer function\n",
      "begin of inner wrapper function.\n",
      "end of inner wrapper function.\n",
      "<b>Hello Toby!</b>\n",
      "[INFO]: enter function say()\n",
      "say whtat is your name!\n"
     ]
    }
   ],
   "source": [
    "# 装饰器 函数\n",
    "def html_tags(tag_name):\n",
    "    print('begin outer function.')\n",
    "    def wrapper_(func):\n",
    "        print (\"begin of inner wrapper function.\")\n",
    "        def wrapper(*args, **kwargs):\n",
    "            content = func(*args, **kwargs)\n",
    "            print (\"<{tag}>{content}</{tag}>\".format(tag=tag_name, content=content))\n",
    "        print ('end of inner wrapper function.')\n",
    "        return wrapper\n",
    "    print ('end of outer function')\n",
    "    return wrapper_\n",
    "\n",
    "@html_tags('b')\n",
    "def hello(name='Toby'):\n",
    "    return 'Hello {}!'.format(name)\n",
    "\n",
    "hello()\n",
    "\n",
    "#装饰器 类\n",
    "class logging(object):\n",
    "    def __init__(self, level='INFO'):\n",
    "        self.level = level\n",
    "        \n",
    "    def __call__(self, func): # 接受函数\n",
    "        def wrapper(*args, **kwargs):\n",
    "            print (\"[{level}]: enter function {func}()\".format(\n",
    "                level=self.level,\n",
    "                func=func.__name__))\n",
    "            func(*args, **kwargs)\n",
    "        return wrapper  #返回函数\n",
    "\n",
    "@logging(level='INFO')\n",
    "def say(something):\n",
    "    print (\"say {}!\".format(something))\n",
    "\n",
    "say('whtat is your name')"
   ]
  },
  {
   "cell_type": "code",
   "execution_count": null,
   "metadata": {
    "collapsed": true
   },
   "outputs": [],
   "source": [
    "# property 装饰器\n",
    "\n",
    "class Student(object):\n",
    " \n",
    "  @property\n",
    "  def birth(self):\n",
    "    return self._birth\n",
    " \n",
    "  @birth.setter\n",
    "  def birth(self, value):\n",
    "    self._birth = value\n",
    " \n",
    "  @property\n",
    "  def age(self):\n",
    "    return 2014 - self._birth\n"
   ]
  }
 ],
 "metadata": {
  "kernelspec": {
   "display_name": "Python 3",
   "language": "python",
   "name": "python3"
  },
  "language_info": {
   "codemirror_mode": {
    "name": "ipython",
    "version": 3
   },
   "file_extension": ".py",
   "mimetype": "text/x-python",
   "name": "python",
   "nbconvert_exporter": "python",
   "pygments_lexer": "ipython3",
   "version": "3.6.3"
  }
 },
 "nbformat": 4,
 "nbformat_minor": 2
}
