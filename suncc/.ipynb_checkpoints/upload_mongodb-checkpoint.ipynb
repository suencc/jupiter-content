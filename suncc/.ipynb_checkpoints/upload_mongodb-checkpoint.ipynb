{
 "cells": [
  {
   "cell_type": "code",
   "execution_count": null,
   "metadata": {},
   "outputs": [
    {
     "name": "stdout",
     "output_type": "stream",
     "text": [
      "crawler/mongodb/20170802/phone/crawl_oppo_proidlist.metadata.json\n",
      "crawler/mongodb/20170802/phone/result_export2hbase_log.metadata.json\n",
      "crawler/mongodb/20170802/phone/crawl_cool_proidlist.metadata.json\n",
      "crawler/mongodb/20170802/phone/crawl_tpy_proidlist.metadata.json\n",
      "crawler/mongodb/20170802/phone/result_phoneinfo.metadata.json\n",
      "crawler/mongodb/20170802/phone/crawl_oppo_comment.metadata.json\n",
      "crawler/mongodb/20170802/phone/crawl_zte_comment.metadata.json\n",
      "crawler/mongodb/20170802/phone/result_proidlist.metadata.json\n",
      "crawler/mongodb/20170802/phone/result_comment.metadata.json\n",
      "crawler/mongodb/20170802/phone/crawl_cool_comment.metadata.json\n",
      "crawler/mongodb/20170802/phone/crawl_xiaomi_proidlist.metadata.json\n",
      "crawler/mongodb/20170802/phone/crawl_guomei_comment.metadata.json\n",
      "crawler/mongodb/20170802/phone/crawl_tpy_comment.metadata.json\n",
      "crawler/mongodb/20170802/phone/crawl_zol_proidlist.metadata.json\n",
      "crawler/mongodb/20170802/phone/crawl_xiaomi_comment.metadata.json\n",
      "crawler/mongodb/20170802/phone/crawl_interrupt.metadata.json\n",
      "crawler/mongodb/20170802/phone/etl_export2result_log.metadata.json\n",
      "crawler/mongodb/20170802/phone/crawl_jd_proidlist.metadata.json\n",
      "crawler/mongodb/20170802/phone/crawl_zte_proidlist.metadata.json\n",
      "crawler/mongodb/20170802/phone/crawl_guomei_proidlist.metadata.json\n",
      "crawler/mongodb/20170802/phone/crawl_jd_comment.metadata.json\n",
      "crawler/mongodb/20170802/phone/crawl_zol_comment.metadata.json\n",
      "crawler/mongodb/20170802/phone/crawl_suning_comment.metadata.json\n",
      "crawler/mongodb/20170802/phone/bak1_result_phoneinfo.metadata.json\n",
      "crawler/mongodb/20170802/phone/crawl_suning_proidlist.metadata.json\n",
      "crawler/mongodb/20170802/phone/crawl_huawei_proidlist.metadata.json\n",
      "crawler/mongodb/20170802/phone/crawl_huawei_comment.metadata.json\n",
      "crawler/mongodb/20170802/phone/bak1_result_proidlist.metadata.json\n",
      "crawler/mongodb/20170802/phone/result_comment.bson\n",
      "crawler/mongodb/20170802/phone/crawl_jd_comment.bson\n",
      "crawler/mongodb/20170802/phone/crawl_huawei_comment.bson\n"
     ]
    }
   ],
   "source": [
    "# -*- coding: utf-8 -*-\n",
    "\n",
    "import os\n",
    "import random\n",
    "import string\n",
    "import oss2\n",
    "import datetime\n",
    "\n",
    "def up_mongobak(bucket, rootDir):\n",
    "    src_file = ''\n",
    "    dst_obj = ''\n",
    "    repstr = 'crawler/mongodb/' + datetime.datetime.now().strftime('%Y%m%d')\n",
    "    list_dirs = os.walk(rootDir) \n",
    "    for root, dirs, files in list_dirs: \n",
    "        for f in files: \n",
    "            src_file_path = os.path.join(root, f)\n",
    "            dst_obj_name = src_file_path.replace(rootDir, repstr, 1)\n",
    "            print(dst_obj_name)\n",
    "            oss2.resumable_upload(bucket, dst_obj_name, src_file_path)\n",
    "def get_bucket(bucket_name):\n",
    "    # 首先初始化AccessKeyId、AccessKeySecret、Endpoint等信息。\n",
    "    # 通过环境变量获取，或者把诸如“<你的AccessKeyId>”替换成真实的AccessKeyId等。\n",
    "    #\n",
    "    # 以杭州区域为例，Endpoint可以是：\n",
    "    #   http://oss-cn-hangzhou.aliyuncs.com\n",
    "    #   https://oss-cn-hangzhou.aliyuncs.com\n",
    "    # 分别以HTTP、HTTPS协议访问。\n",
    "    access_key_id = os.getenv('OSS_TEST_ACCESS_KEY_ID', 'LTAI20sbmMop5MYm')\n",
    "    access_key_secret = os.getenv('OSS_TEST_ACCESS_KEY_SECRET', '6kzby9hqlOzxuX443FZfQgccL4u96g')\n",
    "    bucket_name = os.getenv('OSS_TEST_BUCKET', bucket_name)\n",
    "    endpoint = os.getenv('OSS_TEST_ENDPOINT', 'http://oss-cn-beijing.aliyuncs.com')\n",
    "\n",
    "    # 确认上面的参数都填写正确了\n",
    "    for param in (access_key_id, access_key_secret, bucket_name, endpoint):\n",
    "        assert '<' not in param, '请设置参数：' + param\n",
    "\n",
    "    # 创建Bucket对象，所有Object相关的接口都可以通过Bucket对象来进行\n",
    "    bucket = oss2.Bucket(oss2.Auth(access_key_id, access_key_secret), endpoint, bucket_name)\n",
    "    return bucket\n",
    "\n",
    "if __name__ == '__main__':\n",
    "    bucket = get_bucket('backups-bayesba')\n",
    "    up_mongobak(bucket, '/data/bak_mongo_data')"
   ]
  }
 ],
 "metadata": {
  "kernelspec": {
   "display_name": "Python 3",
   "language": "python",
   "name": "python3"
  },
  "language_info": {
   "codemirror_mode": {
    "name": "ipython",
    "version": 3
   },
   "file_extension": ".py",
   "mimetype": "text/x-python",
   "name": "python",
   "nbconvert_exporter": "python",
   "pygments_lexer": "ipython3",
   "version": "3.6.1"
  }
 },
 "nbformat": 4,
 "nbformat_minor": 2
}
