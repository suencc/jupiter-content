{
 "cells": [
  {
   "cell_type": "code",
   "execution_count": 111,
   "metadata": {
    "scrolled": false
   },
   "outputs": [
    {
     "name": "stdout",
     "output_type": "stream",
     "text": [
      "start crawling\n"
     ]
    },
    {
     "name": "stderr",
     "output_type": "stream",
     "text": [
      "/home/suncc/.pyenv/versions/3.6.1/envs/env361/lib/python3.6/site-packages/ipykernel_launcher.py:75: DeprecationWarning: save is deprecated. Use insert_one or replace_one instead\n"
     ]
    },
    {
     "name": "stdout",
     "output_type": "stream",
     "text": [
      "ended ended\n"
     ]
    }
   ],
   "source": [
    "# -*- coding:utf-8 -*-\n",
    "import pymongo\n",
    "import requests\n",
    "import multiprocessing\n",
    "from bs4 import BeautifulSoup\n",
    "import re\n",
    "from time import sleep\n",
    "import datetime\n",
    "import random\n",
    "\n",
    "def get_monggo_db():\n",
    "    conn = pymongo.MongoClient('127.0.0.1',27017).locachoice\n",
    "    conn.authenticate('locachoice','locachoice')\n",
    "    return conn\n",
    "\n",
    "def get_mongo_crawl_coll():\n",
    "    conn = pymongo.MongoClient('127.0.0.1',27017).locachoice\n",
    "    conn.authenticate('locachoice','locachoice')\n",
    "    return conn['crawl_58_tianhe_shangpu']\n",
    "\n",
    "def clean_mongo_crawl_coll():\n",
    "    db = get_monggo_db()\n",
    "    re = db.drop_collection(\"crawl_58_tianhe_shangpu\")\n",
    "    print(re)    \n",
    "\n",
    "def get_type_from_description(desc):\n",
    "    xs = split(desc)\n",
    "    for x in xs:\n",
    "        print(x)\n",
    "    \n",
    "    \n",
    "def rinse_description(name, area, desc):\n",
    "    desc = desc.replace(name, '')\n",
    "    rslt = desc.replace(area, '')\n",
    "    return rslt.strip()\n",
    "    \n",
    "# 请求天河商铺列表和基本信息\n",
    "def req_tianhe_sp_list():\n",
    "    base_url = 'http://gz.58.com/tianhe/shangpucz/pn'\n",
    "    coll = get_mongo_crawl_coll()\n",
    "    for page_num in range(1, 71):\n",
    "        page_url = '%s%d' % (base_url, page_num)\n",
    "        html_doc = requests.get(page_url).content\n",
    "        soup = BeautifulSoup(html_doc, 'html.parser')\n",
    "        trs = soup.find(\"table\", class_=\"tbimg\").findAll('tr')\n",
    "        for tr in trs:\n",
    "            td2 = tr.find('td', class_='t')\n",
    "            url = td2.find('a', class_='t').get('href')\n",
    "            name = td2.find('a', class_='t').text\n",
    "            area = td2.find('span', class_='ico area').find('a').text\n",
    "            description = td2.text\n",
    "            description = rinse_description(name, area, description)\n",
    "            last2tds = tr.findAll('td', class_='tc')\n",
    "            td3 = last2tds[0]\n",
    "            price = td3.text\n",
    "            td4 = last2tds[1]\n",
    "            centiares = td4.find('b').text\n",
    "            doc = {                \n",
    "                'name': name,\n",
    "                'url': url\n",
    "            }\n",
    "            coll.update_one({'url': url}, {'$set': doc}, True)   \n",
    "\n",
    "def req_tianhe_sp():\n",
    "    coll = get_mongo_crawl_coll()\n",
    "    cursor = coll.find()\n",
    "    for cur in cursor: \n",
    "        html_doc = requests.get(cur.get('url')).content\n",
    "        soup = BeautifulSoup(html_doc, 'html.parser')\n",
    "        lis = soup.find('ul', class_='info').findAll('li')            \n",
    "        desc = ''\n",
    "        for li in lis:\n",
    "            desc += li.text        \n",
    "        cur['description'] = desc\n",
    "        coll.save(cur)   \n",
    "\n",
    "if __name__ == '__main__':\n",
    "    print('start crawling')\n",
    "    clean_mongo_crawl_coll()    \n",
    "    req_tianhe_sp_list()\n",
    "    req_tianhe_sp()\n",
    "    print('ended ended')"
   ]
  }
 ],
 "metadata": {
  "kernelspec": {
   "display_name": "Python 3",
   "language": "python",
   "name": "python3"
  },
  "language_info": {
   "codemirror_mode": {
    "name": "ipython",
    "version": 3
   },
   "file_extension": ".py",
   "mimetype": "text/x-python",
   "name": "python",
   "nbconvert_exporter": "python",
   "pygments_lexer": "ipython3",
   "version": "3.6.1"
  }
 },
 "nbformat": 4,
 "nbformat_minor": 2
}
