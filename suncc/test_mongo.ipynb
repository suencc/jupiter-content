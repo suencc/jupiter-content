{
 "cells": [
  {
   "cell_type": "code",
   "execution_count": 5,
   "metadata": {},
   "outputs": [
    {
     "name": "stdout",
     "output_type": "stream",
     "text": [
      "start\n",
      "{'_id': ObjectId('59edb63ecf1e8c5ded08f95d'), 'name': '韩茂新', 'age': 25, 'grade': 1}\n",
      "{'_id': ObjectId('59edb649cf1e8c5ded08f95f'), 'name': '韩茂新', 'age': 25, 'grade': 1}\n"
     ]
    },
    {
     "data": {
      "text/plain": [
       "['t_age_names',\n",
       " 't',\n",
       " 'test555',\n",
       " 'crawl_shunqi_result',\n",
       " 'system.profile',\n",
       " 'test_maoxin',\n",
       " 'test_333',\n",
       " 'population2010',\n",
       " 'crawl_city_map',\n",
       " 'myreslut',\n",
       " 'test_nnn']"
      ]
     },
     "execution_count": 5,
     "metadata": {},
     "output_type": "execute_result"
    }
   ],
   "source": [
    "import pymongo\n",
    "def get_mongo_db():\n",
    "    conn = pymongo.MongoClient('101.201.151.9',3717).test\n",
    "    conn.authenticate('test','test')\n",
    "    return conn\n",
    "\n",
    "print('start')\n",
    "db = get_mongo_db()\n",
    "# print(db)\n",
    "coll = db['test_maoxin']\n",
    "doc = {'name': u'韩茂新', 'age': 25, 'grade': 1}\n",
    "coll.insert_one(doc)\n",
    "\n",
    "cursor = coll.find()\n",
    "for cur in cursor:\n",
    "    print(cur)\n",
    "db.collection_names()"
   ]
  },
  {
   "cell_type": "code",
   "execution_count": 4,
   "metadata": {},
   "outputs": [
    {
     "name": "stdout",
     "output_type": "stream",
     "text": [
      "Help on built-in function startswith:\n",
      "\n",
      "startswith(...) method of builtins.str instance\n",
      "    S.startswith(prefix[, start[, end]]) -> bool\n",
      "    \n",
      "    Return True if S starts with the specified prefix, False otherwise.\n",
      "    With optional start, test S beginning at that position.\n",
      "    With optional end, stop comparing S at that position.\n",
      "    prefix can also be a tuple of strings to try.\n",
      "\n"
     ]
    }
   ],
   "source": [
    "a = 'aa'\n",
    "help(a.startswith)\n",
    "\n",
    "\n"
   ]
  }
 ],
 "metadata": {
  "kernelspec": {
   "display_name": "Python 3",
   "language": "python",
   "name": "python3"
  },
  "language_info": {
   "codemirror_mode": {
    "name": "ipython",
    "version": 3
   },
   "file_extension": ".py",
   "mimetype": "text/x-python",
   "name": "python",
   "nbconvert_exporter": "python",
   "pygments_lexer": "ipython3",
   "version": "3.6.1"
  }
 },
 "nbformat": 4,
 "nbformat_minor": 2
}
