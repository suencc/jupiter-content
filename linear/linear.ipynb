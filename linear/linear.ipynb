{
 "cells": [
  {
   "cell_type": "code",
   "execution_count": 22,
   "metadata": {},
   "outputs": [
    {
     "name": "stdout",
     "output_type": "stream",
     "text": [
      "[[-0.85811633 -0.2474695  -0.44988355]\n",
      " [ 0.47673129 -0.70941257 -0.51909641]\n",
      " [-0.19069252 -0.65991867  0.72673497]]\n",
      "[[-10.48808848   2.38365647  -4.57662043   1.23950137]\n",
      " [  0.          -8.26548134   2.67267061  -2.06224584]\n",
      " [  0.           0.           9.482161    -5.67545403]]\n",
      "2.0\n"
     ]
    }
   ],
   "source": [
    "import numpy as np\n",
    "\n",
    "# qr正交分解\n",
    "A = np.matrix(\"9 0 -1 2; -5 7 -9 5; 2 5 6 -3\")\n",
    "# help(np.linalg.qr)\n",
    "# np.linalg.qr()\n",
    "q, r = np.linalg.qr(A)\n",
    "print(q)\n",
    "print(r)\n",
    "\n",
    "# 特征值&特征向量 Ax = ℷx\n",
    "\n",
    "# 空间五点共面分析\n",
    "# （1）是一个平面吗，用秩判断\n",
    "A = np.matrix('''-0.28, 4, 0.72, 2.70, 2.0;\n",
    "              -0.03, 4.60,0.71,4.20,1.80;\n",
    "              0.55, 3, -0.13, 6.20,-0.32''')\n",
    "# B = A - A(:5)  \n",
    "print(A.item(4))\n",
    "\n"
   ]
  },
  {
   "cell_type": "code",
   "execution_count": 46,
   "metadata": {},
   "outputs": [
    {
     "name": "stdout",
     "output_type": "stream",
     "text": [
      "0.008192319205190503\n",
      "0.09011551125709442\n",
      "0.04096159602595202\n"
     ]
    }
   ],
   "source": [
    "import numpy as np\n",
    "# numpy help us do some vector calculation\n",
    "\n",
    "\n",
    "class Point(object):\n",
    "    \"\"\"Point are two-dimension\"\"\"\n",
    "\n",
    "    def __init__(self, x, y):\n",
    "        self.x = x\n",
    "        self.y = y\n",
    "\n",
    "\n",
    "class Segment(object):\n",
    "    \"\"\"the 2 points p1 and p2 are unordered\"\"\"\n",
    "\n",
    "    def __init__(self, p1, p2):\n",
    "        self.p1 = p1\n",
    "        self.p2 = p2\n",
    "\n",
    "\n",
    "class Line(object):\n",
    "    \"\"\"p1 and p2 are 2 points in straight line\"\"\"\n",
    "\n",
    "    def __init__(self, p1, p2):\n",
    "        self.p1 = p1\n",
    "        self.p2 = p2\n",
    "\n",
    "\n",
    "class Vector(object):\n",
    "    \"\"\"start and end are two points\"\"\"\n",
    "\n",
    "    def __init__(self, start, end):\n",
    "        self.x = end.x - start.x\n",
    "        self.y = end.y - start.y\n",
    "def pointDistance(p1, p2):\n",
    "    \"\"\"calculate the distance between point p1 and p2\"\"\"\n",
    "\n",
    "    # v: a Vector object\n",
    "    v = Vector(p1, p2)\n",
    "\n",
    "    # translate v to a ndarray object\n",
    "    t = np.array([v.x, v.y])\n",
    "\n",
    "    # calculate the inner product of ndarray t\n",
    "    return float(np.sqrt(t @ t))\n",
    "\n",
    "\n",
    "def pointToLine(C, AB):\n",
    "    \"\"\"calculate the shortest distance between point C and straight line AB, return: a float value\"\"\"\n",
    "\n",
    "    # two Vector object\n",
    "    vector_AB = Vector(AB.p1, AB.p2)\n",
    "    vector_AC = Vector(AB.p1, C)\n",
    "\n",
    "    # two ndarray object\n",
    "    tAB = np.array([vector_AB.x, vector_AB.y])\n",
    "    tAC = np.array([vector_AC.x, vector_AC.y])\n",
    "\n",
    "    # vector AD, type: ndarray\n",
    "    tAD = ((tAB @ tAC) / (tAB @ tAB)) * tAB\n",
    "\n",
    "    # get point D\n",
    "    Dx, Dy = tAD[0] + AB.p1.x, tAD[1] + AB.p1.y\n",
    "    D = Point(Dx, Dy)\n",
    "\n",
    "    return pointDistance(D, C)\n",
    "\n",
    "\n",
    "a = Point(1, 0)\n",
    "b = Point(1.5, 0.7)\n",
    "c = Point(3, 2.7)\n",
    "d = Point(3.5, 3.5)\n",
    "e = Point(4.5, 5)\n",
    "\n",
    "ae = Line(a, e)\n",
    "\n",
    "print(pointToLine(b, ae))\n",
    "print(pointToLine(c, ae))\n",
    "print(pointToLine(d, ae))\n",
    "\n",
    "\n",
    "\n"
   ]
  }
 ],
 "metadata": {
  "kernelspec": {
   "display_name": "Python 3",
   "language": "python",
   "name": "python3"
  },
  "language_info": {
   "codemirror_mode": {
    "name": "ipython",
    "version": 3
   },
   "file_extension": ".py",
   "mimetype": "text/x-python",
   "name": "python",
   "nbconvert_exporter": "python",
   "pygments_lexer": "ipython3",
   "version": "3.6.3"
  }
 },
 "nbformat": 4,
 "nbformat_minor": 2
}
